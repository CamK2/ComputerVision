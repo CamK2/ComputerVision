{
  "nbformat": 4,
  "nbformat_minor": 0,
  "metadata": {
    "colab": {
      "provenance": [],
      "collapsed_sections": [],
      "include_colab_link": true
    },
    "kernelspec": {
      "name": "python3",
      "display_name": "Python 3"
    },
    "language_info": {
      "name": "python"
    }
  },
  "cells": [
    {
      "cell_type": "markdown",
      "metadata": {
        "id": "view-in-github",
        "colab_type": "text"
      },
      "source": [
        "<a href=\"https://colab.research.google.com/github/CamK2/ComputerVision/blob/main/Lab1b.ipynb\" target=\"_parent\"><img src=\"https://colab.research.google.com/assets/colab-badge.svg\" alt=\"Open In Colab\"/></a>"
      ]
    },
    {
      "cell_type": "code",
      "source": [
        "print (\"Hello!\")"
      ],
      "metadata": {
        "id": "C30yn32iT3i6",
        "outputId": "7a7aa64e-276b-4b31-ab74-4eba7f757669",
        "colab": {
          "base_uri": "https://localhost:8080/"
        }
      },
      "execution_count": 1,
      "outputs": [
        {
          "output_type": "stream",
          "name": "stdout",
          "text": [
            "Hello!\n"
          ]
        }
      ]
    },
    {
      "cell_type": "code",
      "source": [
        "328*68/23 + (2**10)"
      ],
      "metadata": {
        "id": "GfWNgzVaT9Gx",
        "outputId": "4906b78b-8e4d-43d4-cf54-ca7a54db0653",
        "colab": {
          "base_uri": "https://localhost:8080/"
        }
      },
      "execution_count": 2,
      "outputs": [
        {
          "output_type": "execute_result",
          "data": {
            "text/plain": [
              "1993.7391304347825"
            ]
          },
          "metadata": {},
          "execution_count": 2
        }
      ]
    },
    {
      "cell_type": "code",
      "execution_count": null,
      "metadata": {
        "colab": {
          "base_uri": "https://localhost:8080/"
        },
        "id": "N2_yt15HAsiN",
        "outputId": "1b8eb6ca-b858-4e9b-e940-a8edef97015b"
      },
      "outputs": [
        {
          "output_type": "stream",
          "name": "stdout",
          "text": [
            "[4, 5]\n",
            "[4, 5]\n",
            "[4, 5]\n",
            "YASS!\n",
            "YASS!\n",
            "YASS!\n",
            "1000\n",
            "1000\n",
            "1000\n"
          ]
        }
      ],
      "source": [
        "# Funtion definitions\n",
        "\n",
        "def PrintThreeTimes(word):\n",
        "  \"\"\"This will print 'hello' three times \"\"\"\n",
        "  for x in range(3):\n",
        "    print(word)\n",
        "    #print(x)\n",
        "\n",
        "PrintThreeTimes([4,5])\n",
        "PrintThreeTimes('YASS!')\n",
        "PrintThreeTimes(1000)"
      ]
    }
  ]
}