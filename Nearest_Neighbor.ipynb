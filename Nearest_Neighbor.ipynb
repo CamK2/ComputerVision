{
  "nbformat": 4,
  "nbformat_minor": 0,
  "metadata": {
    "colab": {
      "provenance": [],
      "authorship_tag": "ABX9TyP67kKEXtijZNiHRP1S6sbF",
      "include_colab_link": true
    },
    "kernelspec": {
      "name": "python3",
      "display_name": "Python 3"
    },
    "language_info": {
      "name": "python"
    }
  },
  "cells": [
    {
      "cell_type": "markdown",
      "metadata": {
        "id": "view-in-github",
        "colab_type": "text"
      },
      "source": [
        "<a href=\"https://colab.research.google.com/github/CamK2/ComputerVision/blob/main/Nearest_Neighbor.ipynb\" target=\"_parent\"><img src=\"https://colab.research.google.com/assets/colab-badge.svg\" alt=\"Open In Colab\"/></a>"
      ]
    },
    {
      "cell_type": "markdown",
      "source": [
        "### Nearest  Neighbor\n",
        "\n",
        "The 1 - nearest neighbor machine learning algorithm will take a test point, find the closest point to the test point, then pick the closest point's output as the output for the test point.\n",
        "\n",
        "The k - nearest neighbor machine learning algorithm will taka a test point, find the k closest points, then pick the most likely answer out of the k points."
      ],
      "metadata": {
        "id": "2Igo6sN0srIB"
      }
    },
    {
      "cell_type": "code",
      "execution_count": 6,
      "metadata": {
        "colab": {
          "base_uri": "https://localhost:8080/"
        },
        "id": "cRv4RPLLsnsC",
        "outputId": "e4aa75be-d301-4a44-97dc-2f487442eee3"
      },
      "outputs": [
        {
          "output_type": "stream",
          "name": "stdout",
          "text": [
            "The nearest neighbor for  2  is:  intoxicated\n"
          ]
        }
      ],
      "source": [
        "# use nearest neighbor to find Cameron's bar preference\n",
        "# Input: Cameron can be in two states: normal and intoxicated\n",
        "# Data points have a rating from 1 to 10.\n",
        "# Past data when Cameron was normal and asked for phone number: ratings: [10,9,10,8,7,8]\n",
        "\n",
        "normals = [10.1, 9, 10.2, 8, 7.5, 8.1]\n",
        "intoxicated = [5, 2, 7.1, 5.1, 3, 10, 3]\n",
        "\n",
        "# he is talking to a 7, is he intoxicated?\n",
        "\n",
        "# nearest neighbor\n",
        "test_point = 2\n",
        "# find distance between test and cur_point\n",
        "best_distance = 10\n",
        "output = None\n",
        "for cur_point in intoxicated:\n",
        "  distance = abs(test_point - cur_point)\n",
        "  # if the distance is less than best-distance, update\n",
        "  if distance < best_distance:\n",
        "    best_distance = distance\n",
        "    output = 'intoxicated'\n",
        "\n",
        "for cur_point in normals:\n",
        "  distance = abs(test_point - cur_point)\n",
        "  # if the distance is less than best-distance, update\n",
        "  if distance < best_distance:\n",
        "    best_distance = distance\n",
        "    output = 'normal'\n",
        "\n",
        "print('The nearest neighbor for ', test_point, ' is: ', output)"
      ]
    },
    {
      "cell_type": "code",
      "source": [
        "abs(-3)"
      ],
      "metadata": {
        "colab": {
          "base_uri": "https://localhost:8080/"
        },
        "id": "s2Orpcnmu0Dl",
        "outputId": "cc9b1e92-84bf-4dee-ff15-9d85816a4f25"
      },
      "execution_count": 1,
      "outputs": [
        {
          "output_type": "execute_result",
          "data": {
            "text/plain": [
              "3"
            ]
          },
          "metadata": {},
          "execution_count": 1
        }
      ]
    }
  ]
}