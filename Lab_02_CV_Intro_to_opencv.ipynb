{
  "nbformat": 4,
  "nbformat_minor": 0,
  "metadata": {
    "colab": {
      "provenance": [],
      "collapsed_sections": [],
      "authorship_tag": "ABX9TyOtP6l5dXNnkqe68PIoOJ77",
      "include_colab_link": true
    },
    "kernelspec": {
      "name": "python3",
      "display_name": "Python 3"
    },
    "language_info": {
      "name": "python"
    }
  },
  "cells": [
    {
      "cell_type": "markdown",
      "metadata": {
        "id": "view-in-github",
        "colab_type": "text"
      },
      "source": [
        "<a href=\"https://colab.research.google.com/github/CamK2/ComputerVision/blob/main/Lab_02_CV_Intro_to_opencv.ipynb\" target=\"_parent\"><img src=\"https://colab.research.google.com/assets/colab-badge.svg\" alt=\"Open In Colab\"/></a>"
      ]
    },
    {
      "cell_type": "markdown",
      "source": [
        "# This notebook will show the basics of the OpenCV toolkit\n",
        "\n"
      ],
      "metadata": {
        "id": "1pEr2DtIJ3oV"
      }
    },
    {
      "cell_type": "code",
      "execution_count": 1,
      "metadata": {
        "colab": {
          "base_uri": "https://localhost:8080/",
          "height": 0
        },
        "id": "ccg8o7QHJxv5",
        "outputId": "3ec8efe0-850a-4eae-f1e5-3a0bfbfcd901"
      },
      "outputs": [
        {
          "output_type": "stream",
          "name": "stdout",
          "text": [
            "loaded OpenCV module\n"
          ]
        }
      ],
      "source": [
        "import cv2\n",
        "print('loaded OpenCV module')\n"
      ]
    },
    {
      "cell_type": "code",
      "source": [
        "# how to copy an image to our colab environment\n",
        "# we will use the wget shell command\n",
        "!wget ''"
      ],
      "metadata": {
        "colab": {
          "base_uri": "https://localhost:8080/",
          "height": 0
        },
        "id": "0uaZkx90Khtx",
        "outputId": "50cf26ee-e3d2-46a8-f697-40f3320fb258"
      },
      "execution_count": 4,
      "outputs": [
        {
          "output_type": "stream",
          "name": "stdout",
          "text": [
            "/bin/bash: deldir: command not found\n"
          ]
        }
      ]
    }
  ]
}