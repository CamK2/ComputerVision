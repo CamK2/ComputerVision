{
  "nbformat": 4,
  "nbformat_minor": 0,
  "metadata": {
    "colab": {
      "provenance": [],
      "authorship_tag": "ABX9TyM4YRk10zSA4kr14RRR2dE2",
      "include_colab_link": true
    },
    "kernelspec": {
      "name": "python3",
      "display_name": "Python 3"
    },
    "language_info": {
      "name": "python"
    }
  },
  "cells": [
    {
      "cell_type": "markdown",
      "metadata": {
        "id": "view-in-github",
        "colab_type": "text"
      },
      "source": [
        "<a href=\"https://colab.research.google.com/github/CamK2/ComputerVision/blob/main/Segmentation.ipynb\" target=\"_parent\"><img src=\"https://colab.research.google.com/assets/colab-badge.svg\" alt=\"Open In Colab\"/></a>"
      ]
    },
    {
      "cell_type": "markdown",
      "source": [
        "***What is segmentation?***\n",
        "**Definition 1**: dividing an image into useful *contiguous* regions.\n",
        "**Definition 2**: assigning each pixel membership in one of a small set of object candidates.\n",
        "\n",
        "Why is segmentation so hard?\n",
        "\n",
        "* meaningful and useful are not well defined\n",
        "* the same physical world can generate many different 2D representations. (i.e. segmentation is an *inverse problem*)\n",
        "* \n",
        "\n",
        "**Chinese Room** - the argument/concept that an AI may not really *know* or *deeply understand* the matter it is dealing with and merely mimicking the analogous process of a person in a room who doesn't understand a language, receives one language in and spits out another language using translation tables"
      ],
      "metadata": {
        "id": "beSFWpWSIZU0"
      }
    },
    {
      "cell_type": "code",
      "execution_count": null,
      "metadata": {
        "id": "LZCSVcTTIUGM"
      },
      "outputs": [],
      "source": []
    }
  ]
}