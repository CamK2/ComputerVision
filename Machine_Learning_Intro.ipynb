{
  "nbformat": 4,
  "nbformat_minor": 0,
  "metadata": {
    "colab": {
      "provenance": [],
      "include_colab_link": true
    },
    "kernelspec": {
      "name": "python3",
      "display_name": "Python 3"
    },
    "language_info": {
      "name": "python"
    }
  },
  "cells": [
    {
      "cell_type": "markdown",
      "metadata": {
        "id": "view-in-github",
        "colab_type": "text"
      },
      "source": [
        "<a href=\"https://colab.research.google.com/github/CamK2/ComputerVision/blob/main/Machine_Learning_Intro.ipynb\" target=\"_parent\"><img src=\"https://colab.research.google.com/assets/colab-badge.svg\" alt=\"Open In Colab\"/></a>"
      ]
    },
    {
      "cell_type": "markdown",
      "source": [
        "## In this notebook we will learn about a **Perceptron** as an example of a simple **machine learning** technique.\n",
        "\n",
        "An individual perceptron has one or more analog inputs and one digital output.\n",
        "\n",
        "For example, we will use a perceptron to take in the inputs of (height and weight) and output True or False (based on whether the person is on the football team or the equestrian team.\n",
        "\n",
        "**Supervised learning** - machine learning when you have labeled data to train on.\n",
        "\n",
        "**Unsupervised learning** - you do not have labeled data, but rather count on the machine to automatically generate categories or models of the data."
      ],
      "metadata": {
        "id": "EiKgHlj6o1vV"
      }
    },
    {
      "cell_type": "code",
      "execution_count": null,
      "metadata": {
        "colab": {
          "base_uri": "https://localhost:8080/"
        },
        "id": "x5uMCUiVm-JZ",
        "outputId": "00b5b2d0-1cb6-467e-cacd-5f9de6d47fbe"
      },
      "outputs": [
        {
          "output_type": "stream",
          "name": "stdout",
          "text": [
            "Done\n"
          ]
        }
      ],
      "source": [
        "import numpy as np\n",
        "import matplotlib.pyplot as plt\n",
        "print('Done')"
      ]
    },
    {
      "cell_type": "code",
      "source": [
        "# plot y = 2 + 1\n",
        "x = np.linspace(0,100,50)\n",
        "y = 2*x + 1\n",
        "\n",
        "footballX = np.array([25,10])\n",
        "footballY = np.array([175,100])\n",
        "bX = np.array([50,75])\n",
        "bY = np.array([25,40])\n",
        "plt.plot(x,y)\n",
        "plt.plot(footballX, footballY, 'o', color='red')\n",
        "plt.plot(bX, bY, 'x', color='blue')\n",
        "plt.axis('equal')\n",
        "plt.grid(True)\n",
        "plt.xlabel('X - Height')\n",
        "plt.ylabel('Y - Weight')\n",
        "plt.title('Title')\n",
        "plt.show()"
      ],
      "metadata": {
        "colab": {
          "base_uri": "https://localhost:8080/",
          "height": 295
        },
        "id": "UfYms93pneNO",
        "outputId": "682c817e-f137-4666-b7b0-5675d82d1772"
      },
      "execution_count": null,
      "outputs": [
        {
          "output_type": "display_data",
          "data": {
            "text/plain": [
              "<Figure size 432x288 with 1 Axes>"
            ],
            "image/png": "[encoded data removed]"
          },
          "metadata": {
            "needs_background": "light"
          }
        }
      ]
    },
    {
      "cell_type": "code",
      "source": [
        "# X --> X0\n",
        "# Y --> X1\n",
        "# plot y = 2 + 1\n",
        "x0 = np.linspace(0,100,50)\n",
        "x1 = 2*x + 1\n",
        "\n",
        "footballX0 = np.array([25,10])\n",
        "footballX1 = np.array([175,100])\n",
        "bX0 = np.array([50,75])\n",
        "bX1 = np.array([25,40])\n",
        "plt.plot(x0,x1)\n",
        "plt.plot(footballX0, footballX1, 'o', color='red')\n",
        "plt.plot(bX0, bX1, 'x', color='blue')\n",
        "plt.plot([50],[50], '*', color='green')\n",
        "plt.axis('equal')\n",
        "plt.grid(True)\n",
        "plt.xlabel('X - Height')\n",
        "plt.ylabel('Y - Weight')\n",
        "plt.title('Title')\n",
        "plt.show()"
      ],
      "metadata": {
        "colab": {
          "base_uri": "https://localhost:8080/",
          "height": 295
        },
        "id": "hGrLRdbmtoms",
        "outputId": "36ca8d82-7f8b-400d-b52b-d11533faf15f"
      },
      "execution_count": null,
      "outputs": [
        {
          "output_type": "display_data",
          "data": {
            "text/plain": [
              "<Figure size 432x288 with 1 Axes>"
            ],
            "image/png": "[encoded data removed]"
          },
          "metadata": {
            "needs_background": "light"
          }
        }
      ]
    },
    {
      "cell_type": "code",
      "source": [
        "def perceptron(X0, X1):\n",
        "  \"\"\"Given X0 and X1 inputs returns True if it thinks it is an X, otherwise returns False.\n",
        "  More specifically, the algorithm multiplies the X0's by w0 and multiplies the X1's by w1,\n",
        "  adds them all up, then looks at whether the sum is greater than the threshold T.\"\"\"\n",
        "  T = 90\n",
        "  w0 = 1\n",
        "  w1 = 1\n",
        "  sum = w0*X0 + w1*X1\n",
        "\n",
        "  if sum > T:\n",
        "    print(\"SKINNY\")\n",
        "    return True\n",
        "  else:\n",
        "    print('FAT')\n",
        "    return False"
      ],
      "metadata": {
        "id": "tJSt0RuetX1t"
      },
      "execution_count": null,
      "outputs": []
    },
    {
      "cell_type": "code",
      "source": [
        "# This should be True/Skinny\n",
        "testX0 = 50\n",
        "testX1 = 50\n",
        "perceptron(testX0, testX1)"
      ],
      "metadata": {
        "colab": {
          "base_uri": "https://localhost:8080/"
        },
        "id": "kmmi-mv0udVT",
        "outputId": "3bfa43b8-530c-49ce-d45a-f6d99f994e5b"
      },
      "execution_count": null,
      "outputs": [
        {
          "output_type": "stream",
          "name": "stdout",
          "text": [
            "SKINNY\n"
          ]
        },
        {
          "output_type": "execute_result",
          "data": {
            "text/plain": [
              "True"
            ]
          },
          "metadata": {},
          "execution_count": 30
        }
      ]
    },
    {
      "cell_type": "code",
      "source": [
        "# This should be False/Fat\n",
        "testX0 = 1\n",
        "testX1 = 75\n",
        "perceptron(testX0, testX1)"
      ],
      "metadata": {
        "colab": {
          "base_uri": "https://localhost:8080/"
        },
        "id": "2F8n4A44yTWr",
        "outputId": "9ff5c720-9e91-44e8-bb94-155c68db8fef"
      },
      "execution_count": null,
      "outputs": [
        {
          "output_type": "stream",
          "name": "stdout",
          "text": [
            "FAT\n"
          ]
        },
        {
          "output_type": "execute_result",
          "data": {
            "text/plain": [
              "False"
            ]
          },
          "metadata": {},
          "execution_count": 31
        }
      ]
    },
    {
      "cell_type": "markdown",
      "source": [
        "## Bonus: plot on the graph above the line that defines the interface of when our perceptron switches from False to True."
      ],
      "metadata": {
        "id": "9RnoLUx6yzCi"
      }
    }
  ]
}