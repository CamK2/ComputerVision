{
  "nbformat": 4,
  "nbformat_minor": 0,
  "metadata": {
    "colab": {
      "provenance": [],
      "include_colab_link": true
    },
    "kernelspec": {
      "name": "python3",
      "display_name": "Python 3"
    },
    "language_info": {
      "name": "python"
    }
  },
  "cells": [
    {
      "cell_type": "markdown",
      "metadata": {
        "id": "view-in-github",
        "colab_type": "text"
      },
      "source": [
        "<a href=\"https://colab.research.google.com/github/CamK2/ComputerVision/blob/main/Machine_Learning_Intro.ipynb\" target=\"_parent\"><img src=\"https://colab.research.google.com/assets/colab-badge.svg\" alt=\"Open In Colab\"/></a>"
      ]
    },
    {
      "cell_type": "markdown",
      "source": [
        "## In this notebook we will learn about a **Perceptron** as an example of a simple **machine learning** technique.\n",
        "\n",
        "An individual perceptron has one or more analog inputs and one digital output.\n",
        "\n",
        "For example, we will use a perceptron to take in the inputs of (height and weight) and output True or False (based on whether the person is on the football team or the equestrian team.\n",
        "\n",
        "**Supervised learning** - machine learning when you have labeled data to train on.\n",
        "\n",
        "**Unsupervised learning** - you do not have labeled data, but rather count on the machine to automatically generate categories or models of the data."
      ],
      "metadata": {
        "id": "EiKgHlj6o1vV"
      }
    },
    {
      "cell_type": "code",
      "execution_count": 1,
      "metadata": {
        "colab": {
          "base_uri": "https://localhost:8080/"
        },
        "id": "x5uMCUiVm-JZ",
        "outputId": "988a303a-f808-41b4-804d-28a45e51ab8f"
      },
      "outputs": [
        {
          "output_type": "stream",
          "name": "stdout",
          "text": [
            "Done\n"
          ]
        }
      ],
      "source": [
        "import numpy as np\n",
        "import matplotlib.pyplot as plt\n",
        "print('Done')"
      ]
    },
    {
      "cell_type": "code",
      "source": [
        "# plot y = 2 + 1\n",
        "x = np.linspace(0,100,50)\n",
        "y = 2*x + 1\n",
        "\n",
        "footballX = np.array([25,10])\n",
        "footballY = np.array([175,100])\n",
        "bX = np.array([50,75])\n",
        "bY = np.array([25,40])\n",
        "plt.plot(x,y)\n",
        "plt.plot(footballX, footballY, 'o', color='red')\n",
        "plt.plot(bX, bY, 'x', color='blue')\n",
        "plt.axis('equal')\n",
        "plt.grid(True)\n",
        "plt.xlabel('X - Height')\n",
        "plt.ylabel('Y - Weight')\n",
        "plt.title('Title')\n",
        "plt.show()"
      ],
      "metadata": {
        "colab": {
          "base_uri": "https://localhost:8080/",
          "height": 295
        },
        "id": "UfYms93pneNO",
        "outputId": "a6576bfa-e569-4ee9-f7b0-bb195bd81631"
      },
      "execution_count": 2,
      "outputs": [
        {
          "output_type": "display_data",
          "data": {
            "text/plain": [
              "<Figure size 432x288 with 1 Axes>"
            ],
            "image/png": "[encoded data removed]"
          },
          "metadata": {
            "needs_background": "light"
          }
        }
      ]
    },
    {
      "cell_type": "code",
      "source": [
        "# X --> X0\n",
        "# Y --> X1\n",
        "# plot y = 2 + 1\n",
        "x0 = np.linspace(0,100,50)\n",
        "x1 = 2*x + 1\n",
        "\n",
        "footballX0 = np.array([25,10])\n",
        "footballX1 = np.array([175,100])\n",
        "bX0 = np.array([50,75])\n",
        "bX1 = np.array([25,40])\n",
        "plt.plot(x0,x1)\n",
        "plt.plot(footballX0, footballX1, 'o', color='red')\n",
        "plt.plot(bX0, bX1, 'x', color='blue')\n",
        "plt.plot([50],[50], '*', color='green')\n",
        "plt.axis('equal')\n",
        "plt.grid(True)\n",
        "plt.xlabel('X - Height')\n",
        "plt.ylabel('Y - Weight')\n",
        "plt.title('Title')\n",
        "plt.show()"
      ],
      "metadata": {
        "colab": {
          "base_uri": "https://localhost:8080/",
          "height": 295
        },
        "id": "hGrLRdbmtoms",
        "outputId": "24ee92e0-b3ef-414d-e4e1-9843a0ae9cf1"
      },
      "execution_count": 3,
      "outputs": [
        {
          "output_type": "display_data",
          "data": {
            "text/plain": [
              "<Figure size 432x288 with 1 Axes>"
            ],
            "image/png": "[encoded data removed]"
          },
          "metadata": {
            "needs_background": "light"
          }
        }
      ]
    },
    {
      "cell_type": "code",
      "source": [
        "def perceptron(X0, X1):\n",
        "  \"\"\"Given X0 and X1 inputs returns True if it thinks it is an X, otherwise returns False.\n",
        "  More specifically, the algorithm multiplies the X0's by w0 and multiplies the X1's by w1,\n",
        "  adds them all up, then looks at whether the sum is greater than the threshold T.\"\"\"\n",
        "  T = 90\n",
        "  w0 = 1\n",
        "  w1 = 1\n",
        "  sum = w0*X0 + w1*X1\n",
        "\n",
        "  if sum > T:\n",
        "    print(\"SKINNY\")\n",
        "    return True\n",
        "  else:\n",
        "    print('FAT')\n",
        "    return False"
      ],
      "metadata": {
        "id": "tJSt0RuetX1t"
      },
      "execution_count": 4,
      "outputs": []
    },
    {
      "cell_type": "code",
      "source": [
        "# This should be True/Skinny\n",
        "testX0 = 50\n",
        "testX1 = 50\n",
        "perceptron(testX0, testX1)"
      ],
      "metadata": {
        "colab": {
          "base_uri": "https://localhost:8080/"
        },
        "id": "kmmi-mv0udVT",
        "outputId": "a2ec8a11-7fab-496a-c00d-9190f68b7e3c"
      },
      "execution_count": 5,
      "outputs": [
        {
          "output_type": "stream",
          "name": "stdout",
          "text": [
            "SKINNY\n"
          ]
        },
        {
          "output_type": "execute_result",
          "data": {
            "text/plain": [
              "True"
            ]
          },
          "metadata": {},
          "execution_count": 5
        }
      ]
    },
    {
      "cell_type": "code",
      "source": [
        "# This should be False/Fat\n",
        "testX0 = 1\n",
        "testX1 = 75\n",
        "perceptron(testX0, testX1)"
      ],
      "metadata": {
        "colab": {
          "base_uri": "https://localhost:8080/"
        },
        "id": "2F8n4A44yTWr",
        "outputId": "e290dc5b-7562-4220-cadf-68a69f993988"
      },
      "execution_count": 6,
      "outputs": [
        {
          "output_type": "stream",
          "name": "stdout",
          "text": [
            "FAT\n"
          ]
        },
        {
          "output_type": "execute_result",
          "data": {
            "text/plain": [
              "False"
            ]
          },
          "metadata": {},
          "execution_count": 6
        }
      ]
    },
    {
      "cell_type": "markdown",
      "source": [
        "## Bonus: plot on the graph above the line that defines the interface of when our perceptron switches from False to True."
      ],
      "metadata": {
        "id": "9RnoLUx6yzCi"
      }
    },
    {
      "cell_type": "code",
      "source": [
        "from keras.datasets import mnist\n",
        "print('Done')"
      ],
      "metadata": {
        "id": "j31Gl6VHDCwg",
        "outputId": "ec2194e7-ed53-4d10-d2bf-7215d37d4116",
        "colab": {
          "base_uri": "https://localhost:8080/"
        }
      },
      "execution_count": 7,
      "outputs": [
        {
          "output_type": "stream",
          "name": "stdout",
          "text": [
            "Done\n"
          ]
        }
      ]
    },
    {
      "cell_type": "code",
      "source": [
        "# help(mnist)\n",
        "(x_train, y_train), (x_test, y_test) = mnist.load_data()"
      ],
      "metadata": {
        "id": "ZzyG6CO2DSQX",
        "outputId": "4b95bdc2-72db-44cd-c511-d477a5185354",
        "colab": {
          "base_uri": "https://localhost:8080/"
        }
      },
      "execution_count": 8,
      "outputs": [
        {
          "output_type": "stream",
          "name": "stdout",
          "text": [
            "Downloading data from https://storage.googleapis.com/tensorflow/tf-keras-datasets/mnist.npz\n",
            "11493376/11490434 [==============================] - 0s 0us/step\n",
            "11501568/11490434 [==============================] - 0s 0us/step\n"
          ]
        }
      ]
    },
    {
      "cell_type": "code",
      "source": [
        "type(x_train)\n",
        "x_train.shape"
      ],
      "metadata": {
        "id": "WFe1yywWEVP1",
        "outputId": "3c8a2b46-5c0c-4fd1-b7dc-830d30c7f9b7",
        "colab": {
          "base_uri": "https://localhost:8080/"
        }
      },
      "execution_count": 9,
      "outputs": [
        {
          "output_type": "execute_result",
          "data": {
            "text/plain": [
              "(60000, 28, 28)"
            ]
          },
          "metadata": {},
          "execution_count": 9
        }
      ]
    },
    {
      "cell_type": "code",
      "source": [
        "x_train[0,:,:]\n",
        "plt.imshow(x_train[10,:,:], cmap = plt.get_cmap('gray'))\n",
        "print('label', y_train[10])"
      ],
      "metadata": {
        "id": "J6ptDcsKEwEc",
        "outputId": "7297f8fd-4cec-4e38-e216-03040c748633",
        "colab": {
          "base_uri": "https://localhost:8080/",
          "height": 283
        }
      },
      "execution_count": 15,
      "outputs": [
        {
          "output_type": "stream",
          "name": "stdout",
          "text": [
            "label 3\n"
          ]
        },
        {
          "output_type": "display_data",
          "data": {
            "text/plain": [
              "<Figure size 432x288 with 1 Axes>"
            ],
            "image/png": "[encoded data removed]"
          },
          "metadata": {
            "needs_background": "light"
          }
        }
      ]
    },
    {
      "cell_type": "code",
      "source": [
        "y_train[0:10]"
      ],
      "metadata": {
        "id": "-pZKQkiNFyaS",
        "outputId": "cf53c394-4f2e-415b-c543-c26212bfb525",
        "colab": {
          "base_uri": "https://localhost:8080/"
        }
      },
      "execution_count": 16,
      "outputs": [
        {
          "output_type": "execute_result",
          "data": {
            "text/plain": [
              "array([5, 0, 4, 1, 9, 2, 1, 3, 1, 4], dtype=uint8)"
            ]
          },
          "metadata": {},
          "execution_count": 16
        }
      ]
    },
    {
      "cell_type": "code",
      "source": [
        "x8_train = x_train[y_train ==8,:,:]\n",
        "y8_train = y_train[y_train ==8]\n",
        "x1_train = x_train[y_train ==1,:,:]\n",
        "y1_train = y_train[y_train ==1]"
      ],
      "metadata": {
        "id": "wMHTq-P9F93q"
      },
      "execution_count": 20,
      "outputs": []
    },
    {
      "cell_type": "code",
      "source": [
        "x_train[0,:,:]\n",
        "plt.imshow(x8_train[10,:,:], cmap = plt.get_cmap('gray'))\n",
        "print('label', y8_train[10])"
      ],
      "metadata": {
        "id": "iFfpwwljWYon",
        "outputId": "3b322491-bde9-4544-8b5a-a9248e078138",
        "colab": {
          "base_uri": "https://localhost:8080/",
          "height": 283
        }
      },
      "execution_count": 25,
      "outputs": [
        {
          "output_type": "stream",
          "name": "stdout",
          "text": [
            "label 8\n"
          ]
        },
        {
          "output_type": "display_data",
          "data": {
            "text/plain": [
              "<Figure size 432x288 with 1 Axes>"
            ],
            "image/png": "[encoded data removed]"
          },
          "metadata": {
            "needs_background": "light"
          }
        }
      ]
    },
    {
      "cell_type": "code",
      "source": [
        "x1_sum = x1_train.sum(axis=1).sum(axis=1)\n",
        "x8_sum = x8_train.sum(axis=1).sum(axis=1)\n",
        "x1_sum.shape\n",
        "x8_sum.shape"
      ],
      "metadata": {
        "id": "4HU36GEPXdnV",
        "outputId": "db04162b-1373-4b37-8429-1fa71c0118c2",
        "colab": {
          "base_uri": "https://localhost:8080/"
        }
      },
      "execution_count": 30,
      "outputs": [
        {
          "output_type": "execute_result",
          "data": {
            "text/plain": [
              "(5851,)"
            ]
          },
          "metadata": {},
          "execution_count": 30
        }
      ]
    },
    {
      "cell_type": "code",
      "source": [
        "import pandas as pd\n",
        "df = pd.DataFrame(x1_sum)\n",
        "df.hist()\n",
        "df = pd.DataFrame(x8_sum)\n",
        "df.hist()"
      ],
      "metadata": {
        "id": "MzWUroPZYIOc",
        "outputId": "74e64535-6793-4200-ab5b-ffc534cacad6",
        "colab": {
          "base_uri": "https://localhost:8080/",
          "height": 581
        }
      },
      "execution_count": 32,
      "outputs": [
        {
          "output_type": "execute_result",
          "data": {
            "text/plain": [
              "array([[<matplotlib.axes._subplots.AxesSubplot object at 0x7f0fc04b3910>]],\n",
              "      dtype=object)"
            ]
          },
          "metadata": {},
          "execution_count": 32
        },
        {
          "output_type": "display_data",
          "data": {
            "text/plain": [
              "<Figure size 432x288 with 1 Axes>"
            ],
            "image/png": "[encoded data removed]"
          },
          "metadata": {
            "needs_background": "light"
          }
        },
        {
          "output_type": "display_data",
          "data": {
            "text/plain": [
              "<Figure size 432x288 with 1 Axes>"
            ],
            "image/png": "[encoded data removed]"
          },
          "metadata": {
            "needs_background": "light"
          }
        }
      ]
    }
  ]
}