{
  "nbformat": 4,
  "nbformat_minor": 0,
  "metadata": {
    "colab": {
      "provenance": [],
      "authorship_tag": "ABX9TyOq5P6QWZZLRzP04M5u6p8X",
      "include_colab_link": true
    },
    "kernelspec": {
      "name": "python3",
      "display_name": "Python 3"
    },
    "language_info": {
      "name": "python"
    }
  },
  "cells": [
    {
      "cell_type": "markdown",
      "metadata": {
        "id": "view-in-github",
        "colab_type": "text"
      },
      "source": [
        "<a href=\"https://colab.research.google.com/github/CamK2/ComputerVision/blob/main/Convolution.ipynb\" target=\"_parent\"><img src=\"https://colab.research.google.com/assets/colab-badge.svg\" alt=\"Open In Colab\"/></a>"
      ]
    },
    {
      "cell_type": "markdown",
      "source": [
        "Convolution - two signals are convolved together when you multiply the two signals together and sum, then shift and repeat.\n",
        "\n",
        "*Implementation of a moving average"
      ],
      "metadata": {
        "id": "UaivPMqV8m1v"
      }
    },
    {
      "cell_type": "code",
      "execution_count": 13,
      "metadata": {
        "colab": {
          "base_uri": "https://localhost:8080/"
        },
        "id": "SXe5qon57-dG",
        "outputId": "f1aa0b5a-19d5-4b02-cf42-9ab026c3537c"
      },
      "outputs": [
        {
          "output_type": "stream",
          "name": "stdout",
          "text": [
            "Convolution =  [ 5.  0. -5.  0.  0.  0.  0.  0.]\n"
          ]
        }
      ],
      "source": [
        "# here we will apply a moving average to D'Angelos Dojo Data\n",
        "import numpy as np\n",
        "\n",
        "def convolution(func1,func2):\n",
        "  \"\"\"Returns the convolution of func1 and func2.\n",
        "  func1, func2, and the return valur should be numpy arrays \"\"\"\n",
        "  filtered_data = []\n",
        "  for shift in range(func1.shape[0]-func2.shape[0]+1):\n",
        "    kernel_sum = 0\n",
        "    for i in range(func2.shape[0]):\n",
        "      kernel_sum += func2[i]*func1[shift+i]\n",
        "    filtered_data.append(kernel_sum)\n",
        "  return np.array(filtered_data)\n",
        "\n",
        "data = np.array([10,0,0,10,10,10,10,10,10])\n",
        "kernel = np.array([.5,-.5])\n",
        "filtered_data = convolution(data,kernel)\n",
        "filtered_data2 = convolution(filtered_data,kernel)\n",
        "\n",
        "print('Convolution = ', filtered_data)"
      ]
    },
    {
      "cell_type": "code",
      "source": [
        "a = [1,2,3]"
      ],
      "metadata": {
        "id": "nSKc2ClIEIEU"
      },
      "execution_count": null,
      "outputs": []
    }
  ]
}