{
  "nbformat": 4,
  "nbformat_minor": 0,
  "metadata": {
    "colab": {
      "provenance": [],
      "collapsed_sections": [],
      "include_colab_link": true
    },
    "kernelspec": {
      "name": "python3",
      "display_name": "Python 3"
    },
    "language_info": {
      "name": "python"
    }
  },
  "cells": [
    {
      "cell_type": "markdown",
      "metadata": {
        "id": "view-in-github",
        "colab_type": "text"
      },
      "source": [
        "<a href=\"https://colab.research.google.com/github/CamK2/ComputerVision/blob/main/codingchallenge.ipynb\" target=\"_parent\"><img src=\"https://colab.research.google.com/assets/colab-badge.svg\" alt=\"Open In Colab\"/></a>"
      ]
    },
    {
      "cell_type": "code",
      "execution_count": null,
      "metadata": {
        "id": "OjKjRN2aXNHT",
        "colab": {
          "base_uri": "https://localhost:8080/"
        },
        "outputId": "48321354-9970-4b7d-c070-468e74ae1151"
      },
      "outputs": [
        {
          "output_type": "stream",
          "name": "stdout",
          "text": [
            "modules loaded\n"
          ]
        }
      ],
      "source": [
        "#JD workpace\n",
        "import matplotlib.pyplot as plt\n",
        "import cv2\n",
        "import numpy as np\n",
        "print('modules loaded')"
      ]
    },
    {
      "cell_type": "code",
      "source": [
        "img = np.zeros((100,100, 3))\n",
        "img[0:100,0:100,(0,2)] = 255\n",
        "plt.imshow(img)\n",
        "plt.show()\n"
      ],
      "metadata": {
        "id": "lbeMm8V1Xmzy",
        "colab": {
          "base_uri": "https://localhost:8080/",
          "height": 286
        },
        "outputId": "e471e0ea-9b95-4f46-be9a-be1a17010c87"
      },
      "execution_count": null,
      "outputs": [
        {
          "output_type": "stream",
          "name": "stderr",
          "text": [
            "WARNING:matplotlib.image:Clipping input data to the valid range for imshow with RGB data ([0..1] for floats or [0..255] for integers).\n"
          ]
        },
        {
          "output_type": "display_data",
          "data": {
            "text/plain": [
              "<Figure size 432x288 with 1 Axes>"
            ],
            "image/png": "[encoded data removed]"
          },
          "metadata": {
            "needs_background": "light"
          }
        }
      ]
    },
    {
      "cell_type": "code",
      "source": [
        "img = np.zeros((100,100, 3))\n",
        "img[20:40,20:60,0:2] = 255\n",
        "#Remember y comes first.\n",
        "plt.imshow(img)\n",
        "plt.show()"
      ],
      "metadata": {
        "colab": {
          "base_uri": "https://localhost:8080/",
          "height": 286
        },
        "id": "LJOaim_HYIDL",
        "outputId": "fdba25cf-950d-4eef-eafb-0b0938fc0af9"
      },
      "execution_count": null,
      "outputs": [
        {
          "output_type": "stream",
          "name": "stderr",
          "text": [
            "WARNING:matplotlib.image:Clipping input data to the valid range for imshow with RGB data ([0..1] for floats or [0..255] for integers).\n"
          ]
        },
        {
          "output_type": "display_data",
          "data": {
            "text/plain": [
              "<Figure size 432x288 with 1 Axes>"
            ],
            "image/png": "[encoded data removed]"
          },
          "metadata": {
            "needs_background": "light"
          }
        }
      ]
    },
    {
      "cell_type": "code",
      "source": [
        "#abs(Pixel difference) >250 --> 255 else 0\n",
        "def vert_filter(input_img):\n",
        "  \"\"\"Will extract vertical edges. Output is a np.ndarray of same dimension\"\"\" \n",
        "  output_img = np.zeros_like(input_img)\n",
        "  #Loop through all pixels\n",
        "  height = img.shape[0]\n",
        "  width = img.shape[1]\n",
        "  for y in range(height):\n",
        "    for x in range(width-1):\n",
        "      if abs(input_img[y,x,0] - input_img[y,x+1,0]) > 250:\n",
        "        output_img[y,x,0:3] = 255\n",
        "      else: output_img[y,x,0] = 0\n",
        "\n",
        "\n",
        "  return output_img\n",
        "\n",
        "output_img = vert_filter(img)\n",
        "\n",
        "plt.imshow(output_img)\n",
        "plt.show()"
      ],
      "metadata": {
        "colab": {
          "base_uri": "https://localhost:8080/",
          "height": 286
        },
        "id": "jKj1a4IXaVlv",
        "outputId": "63cf447b-2011-49c9-e5e3-61f8bdb32354"
      },
      "execution_count": null,
      "outputs": [
        {
          "output_type": "stream",
          "name": "stderr",
          "text": [
            "WARNING:matplotlib.image:Clipping input data to the valid range for imshow with RGB data ([0..1] for floats or [0..255] for integers).\n"
          ]
        },
        {
          "output_type": "display_data",
          "data": {
            "text/plain": [
              "<Figure size 432x288 with 1 Axes>"
            ],
            "image/png": "[encoded data removed]"
          },
          "metadata": {
            "needs_background": "light"
          }
        }
      ]
    },
    {
      "cell_type": "code",
      "source": [
        "# Hill Climbing / Steepest Descent"
      ],
      "metadata": {
        "id": "7rCXZkr0cLJU"
      },
      "execution_count": null,
      "outputs": []
    }
  ]
}